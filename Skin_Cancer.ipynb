{
  "nbformat": 4,
  "nbformat_minor": 0,
  "metadata": {
    "colab": {
      "provenance": [],
      "gpuType": "T4"
    },
    "kernelspec": {
      "name": "python3",
      "display_name": "Python 3"
    },
    "accelerator": "GPU"
  },
  "cells": [
    {
      "cell_type": "markdown",
      "metadata": {
        "id": "A3v3jsFeSzqG"
      },
      "source": [
        "##importing the libiraries for deep learning CNN"
      ]
    },
    {
      "cell_type": "code",
      "metadata": {
        "id": "RDjf969RIiFV"
      },
      "source": [
        "from tensorflow import keras\n",
        "from keras.models import Sequential\n",
        "from keras.layers import Dense, Flatten, Conv2D, MaxPooling2D, Dropout\n",
        "from keras.preprocessing.image import ImageDataGenerator"
      ],
      "execution_count": 2,
      "outputs": []
    },
    {
      "cell_type": "markdown",
      "metadata": {
        "id": "ma102G7-S6nh"
      },
      "source": [
        "##pre processing the dataset"
      ]
    },
    {
      "cell_type": "code",
      "source": [
        "from google.colab import drive\n",
        "drive.mount('/content/drive')"
      ],
      "metadata": {
        "colab": {
          "base_uri": "https://localhost:8080/"
        },
        "id": "-wfk0aDiwEir",
        "outputId": "0bb9303e-96dd-40a9-808b-202f5d6778df"
      },
      "execution_count": 1,
      "outputs": [
        {
          "output_type": "stream",
          "name": "stdout",
          "text": [
            "Mounted at /content/drive\n"
          ]
        }
      ]
    },
    {
      "cell_type": "code",
      "metadata": {
        "colab": {
          "base_uri": "https://localhost:8080/"
        },
        "id": "BRMiGq1vTBW1",
        "outputId": "24a7380c-830f-428b-935d-35a384d2f76a"
      },
      "source": [
        "# preprocessing over the training set\n",
        "\n",
        "train_data_generation = ImageDataGenerator(rescale=1./255,\n",
        "                                           shear_range=0.2,\n",
        "                                           zoom_range=0.2,\n",
        "                                           horizontal_flip=True,\n",
        "                                           )\n",
        "\n",
        "training_set = train_data_generation.flow_from_directory('/content/drive/MyDrive/DotPy/two_types of skin cancer/train',\n",
        "                                                         target_size=(64, 64),\n",
        "                                                         batch_size=16,\n",
        "                                                         class_mode='binary')\n"
      ],
      "execution_count": 3,
      "outputs": [
        {
          "output_type": "stream",
          "name": "stdout",
          "text": [
            "Found 2637 images belonging to 2 classes.\n"
          ]
        }
      ]
    },
    {
      "cell_type": "code",
      "source": [
        "\n",
        "# 1- preprocessing the testing set\n",
        "test_data_generation = ImageDataGenerator(rescale=1./255)\n",
        "testing_set = test_data_generation.flow_from_directory('/content/drive/MyDrive/DotPy/two_types of skin cancer/test',\n",
        "                                                       target_size=(64, 64),\n",
        "                                                       batch_size=16,\n",
        "                                                       class_mode='binary')\n"
      ],
      "metadata": {
        "colab": {
          "base_uri": "https://localhost:8080/"
        },
        "id": "FRcyLmzqbAEZ",
        "outputId": "a912402e-6476-4a68-fd70-420ab28ff566"
      },
      "execution_count": 4,
      "outputs": [
        {
          "output_type": "stream",
          "name": "stdout",
          "text": [
            "Found 660 images belonging to 2 classes.\n"
          ]
        }
      ]
    },
    {
      "cell_type": "markdown",
      "metadata": {
        "id": "IBSsYlURVBbD"
      },
      "source": [
        "##building the model"
      ]
    },
    {
      "cell_type": "code",
      "metadata": {
        "id": "FUbMv74BVDrj"
      },
      "source": [
        "model = Sequential([\n",
        "            #layer 1\n",
        "            Conv2D(filters=64, kernel_size=4, activation='relu', input_shape = (64, 64, 3)),\n",
        "            MaxPooling2D(pool_size=2),\n",
        "\n",
        "            #layre 2\n",
        "            Conv2D(filters=32, kernel_size=3, activation='relu'),\n",
        "            MaxPooling2D(pool_size=2),\n",
        "            Dropout(0.2),\n",
        "\n",
        "            Flatten(),\n",
        "            Dense(units=128, activation='relu'),\n",
        "            Dense(units=1, activation='sigmoid')\n",
        "])\n"
      ],
      "execution_count": 5,
      "outputs": []
    },
    {
      "cell_type": "markdown",
      "metadata": {
        "id": "YGkJfzJaV7Av"
      },
      "source": [
        "##compiling the model"
      ]
    },
    {
      "cell_type": "code",
      "metadata": {
        "id": "aqQO9HWhV9bO"
      },
      "source": [
        "model.compile(optimizer='SGD', loss='binary_crossentropy', metrics=['accuracy'])"
      ],
      "execution_count": 6,
      "outputs": []
    },
    {
      "cell_type": "markdown",
      "metadata": {
        "id": "Q4q7M-ybWC_p"
      },
      "source": [
        "##fitting the training and testing data"
      ]
    },
    {
      "cell_type": "code",
      "metadata": {
        "colab": {
          "base_uri": "https://localhost:8080/"
        },
        "id": "eiUC63FzWHqt",
        "outputId": "54ba8961-70e0-4df9-cabb-e8ea1bc4488c"
      },
      "source": [
        "history = model.fit(x = training_set, validation_data = testing_set, epochs=10)"
      ],
      "execution_count": 7,
      "outputs": [
        {
          "output_type": "stream",
          "name": "stdout",
          "text": [
            "Epoch 1/10\n",
            "165/165 [==============================] - 1155s 7s/step - loss: 0.6660 - accuracy: 0.5794 - val_loss: 0.6765 - val_accuracy: 0.5970\n",
            "Epoch 2/10\n",
            "165/165 [==============================] - 20s 119ms/step - loss: 0.6153 - accuracy: 0.6496 - val_loss: 0.5388 - val_accuracy: 0.7227\n",
            "Epoch 3/10\n",
            "165/165 [==============================] - 19s 114ms/step - loss: 0.5638 - accuracy: 0.7065 - val_loss: 0.4986 - val_accuracy: 0.7470\n",
            "Epoch 4/10\n",
            "165/165 [==============================] - 21s 129ms/step - loss: 0.5425 - accuracy: 0.7277 - val_loss: 0.4801 - val_accuracy: 0.7727\n",
            "Epoch 5/10\n",
            "165/165 [==============================] - 20s 122ms/step - loss: 0.5093 - accuracy: 0.7440 - val_loss: 0.5036 - val_accuracy: 0.7697\n",
            "Epoch 6/10\n",
            "165/165 [==============================] - 20s 121ms/step - loss: 0.5026 - accuracy: 0.7531 - val_loss: 0.4380 - val_accuracy: 0.7773\n",
            "Epoch 7/10\n",
            "165/165 [==============================] - 20s 123ms/step - loss: 0.4714 - accuracy: 0.7607 - val_loss: 0.4500 - val_accuracy: 0.7500\n",
            "Epoch 8/10\n",
            "165/165 [==============================] - 21s 128ms/step - loss: 0.4559 - accuracy: 0.7668 - val_loss: 0.4029 - val_accuracy: 0.7924\n",
            "Epoch 9/10\n",
            "165/165 [==============================] - 19s 114ms/step - loss: 0.4491 - accuracy: 0.7747 - val_loss: 0.4579 - val_accuracy: 0.7439\n",
            "Epoch 10/10\n",
            "165/165 [==============================] - 21s 130ms/step - loss: 0.4387 - accuracy: 0.7804 - val_loss: 0.4193 - val_accuracy: 0.7939\n"
          ]
        }
      ]
    },
    {
      "cell_type": "markdown",
      "source": [
        "# save the weights"
      ],
      "metadata": {
        "id": "Jkv26CBm1duV"
      }
    },
    {
      "cell_type": "code",
      "source": [
        "model.save('my_weights.h5')"
      ],
      "metadata": {
        "id": "7kmXBJJb6MtX",
        "colab": {
          "base_uri": "https://localhost:8080/"
        },
        "outputId": "e5b65b9d-82bc-48c5-b143-cd4b0dabf504"
      },
      "execution_count": 8,
      "outputs": [
        {
          "output_type": "stream",
          "name": "stderr",
          "text": [
            "/usr/local/lib/python3.10/dist-packages/keras/src/engine/training.py:3103: UserWarning: You are saving your model as an HDF5 file via `model.save()`. This file format is considered legacy. We recommend using instead the native Keras format, e.g. `model.save('my_model.keras')`.\n",
            "  saving_api.save_model(\n"
          ]
        }
      ]
    },
    {
      "cell_type": "markdown",
      "source": [
        "# Single prediction"
      ],
      "metadata": {
        "id": "KnmrDJdZLgMq"
      }
    },
    {
      "cell_type": "code",
      "source": [
        "#using the model for new predictions\n",
        "from tensorflow.keras.utils import img_to_array, load_img\n",
        "import numpy as np"
      ],
      "metadata": {
        "id": "lxY-C2SChgcJ"
      },
      "execution_count": 9,
      "outputs": []
    },
    {
      "cell_type": "code",
      "source": [
        "image = load_img('/content/drive/MyDrive/DotPy/two_types of skin cancer/test/benign/1006.jpg', target_size=(64, 64))\n",
        "\n",
        "image = img_to_array(image)\n",
        "print(image)\n",
        "\n",
        "image = np.expand_dims(image, axis=0)\n",
        "result = model.predict(image)\n",
        "print(np.argmax(result))"
      ],
      "metadata": {
        "colab": {
          "base_uri": "https://localhost:8080/"
        },
        "id": "FbkdxcvbLjR0",
        "outputId": "e1fc05ac-3897-4dff-f4da-8abd858a6786"
      },
      "execution_count": 11,
      "outputs": [
        {
          "output_type": "stream",
          "name": "stdout",
          "text": [
            "[[[234. 135. 156.]\n",
            "  [235. 142. 163.]\n",
            "  [237. 143. 169.]\n",
            "  ...\n",
            "  [250. 180. 204.]\n",
            "  [244. 170. 187.]\n",
            "  [242. 168. 185.]]\n",
            "\n",
            " [[230. 139. 154.]\n",
            "  [235. 143. 166.]\n",
            "  [234. 142. 163.]\n",
            "  ...\n",
            "  [245. 175. 201.]\n",
            "  [247. 173. 198.]\n",
            "  [241. 170. 188.]]\n",
            "\n",
            " [[233. 141. 156.]\n",
            "  [233. 141. 164.]\n",
            "  [236. 142. 166.]\n",
            "  ...\n",
            "  [245. 167. 191.]\n",
            "  [244. 169. 189.]\n",
            "  [238. 167. 185.]]\n",
            "\n",
            " ...\n",
            "\n",
            " [[218. 126. 139.]\n",
            "  [216. 130. 143.]\n",
            "  [223. 133. 143.]\n",
            "  ...\n",
            "  [225. 164. 172.]\n",
            "  [222. 160. 173.]\n",
            "  [221. 164. 171.]]\n",
            "\n",
            " [[218. 142. 155.]\n",
            "  [215. 126. 144.]\n",
            "  [221. 134. 150.]\n",
            "  ...\n",
            "  [228. 165. 173.]\n",
            "  [226. 160. 170.]\n",
            "  [223. 162. 170.]]\n",
            "\n",
            " [[218. 144. 157.]\n",
            "  [223. 137. 150.]\n",
            "  [220. 130. 140.]\n",
            "  ...\n",
            "  [225. 164. 171.]\n",
            "  [224. 164. 172.]\n",
            "  [217. 158. 164.]]]\n",
            "1/1 [==============================] - 0s 242ms/step\n",
            "0\n"
          ]
        }
      ]
    },
    {
      "cell_type": "code",
      "source": [
        "if np.argmax(result) == 0:\n",
        "  print(\".....\")"
      ],
      "metadata": {
        "id": "lfEy2dL0j_7A",
        "colab": {
          "base_uri": "https://localhost:8080/"
        },
        "outputId": "e27edc3a-f070-4408-8b32-d69ac208520a"
      },
      "execution_count": 12,
      "outputs": [
        {
          "output_type": "stream",
          "name": "stdout",
          "text": [
            ".....\n"
          ]
        }
      ]
    }
  ]
}